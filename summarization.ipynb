{
 "cells": [
  {
   "cell_type": "code",
   "execution_count": 1,
   "metadata": {},
   "outputs": [],
   "source": [
    "import os"
   ]
  },
  {
   "cell_type": "code",
   "execution_count": 2,
   "metadata": {},
   "outputs": [],
   "source": [
    "open_api_key=''"
   ]
  },
  {
   "cell_type": "code",
   "execution_count": 3,
   "metadata": {},
   "outputs": [],
   "source": [
    "os.environ[\"OPENAI_API_KEY\"]=open_api_key"
   ]
  },
  {
   "cell_type": "code",
   "execution_count": 4,
   "metadata": {},
   "outputs": [],
   "source": [
    "from langchain.chat_models import ChatOpenAI\n",
    "from langchain.schema import (\n",
    "    AIMessage,\n",
    "    HumanMessage,\n",
    "    SystemMessage\n",
    ")"
   ]
  },
  {
   "cell_type": "code",
   "execution_count": 5,
   "metadata": {},
   "outputs": [],
   "source": [
    "speech=\"\"\"\n",
    "People across the country, involved in government, political, and social activities, are dedicating their time to make the ‘Viksit Bharat Sankalp Yatra’ (Developed India Resolution Journey) successful. Therefore, as a Member of Parliament, it was my responsibility to also contribute my time to this program. So, today, I have come here just as a Member of Parliament and your ‘sevak’, ready to participate in this program, much like you.\n",
    "\n",
    "In our country, governments have come and gone, numerous schemes have been formulated, discussions have taken place, and big promises have been made. However, my experience and observations led me to believe that the most critical aspect that requires attention is ensuring that the government’s plans reach the intended beneficiaries without any hassles. If there is a ‘Pradhan Mantri Awas Yojana’ (Prime Minister’s housing scheme), then those who are living in jhuggis and slums should get their houses. And he should not need to make rounds of the government offices for this purpose. The government should reach him. Since you have assigned this responsibility to me, about four crore families have got their ‘pucca’ houses. However, I have encountered cases where someone is left out of the government benefits. Therefore, I have decided to tour the country again, to listen to people’s experiences with government schemes, to understand whether they received the intended benefits, and to ensure that the programs are reaching everyone as planned without paying any bribes. We will get the real picture if we visit them again. Therefore, this ‘Viksit Bharat Sankalp Yatra’ is, in a way, my own examination. I want to hear from you and the people across the country whether what I envisioned and the work I have been doing aligns with reality and whether it has reached those for whom it was meant.\n",
    "\n",
    "It is crucial to check whether the work that was supposed to happen has indeed taken place. I recently met some individuals who utilized the Ayushman card to get treatment for serious illnesses. One person met with a severe accident, and after using the card, he could afford the necessary operation, and now he is recovering well. When I asked him, he said: “How could I afford this treatment? Now that there is the Ayushman card, I mustered courage and underwent an operation. Now I am perfectly fine.”  Such stories are blessings to me.\n",
    "\n",
    "The bureaucrats, who prepare good schemes, expedite the paperwork and even allocate funds, also feel satisfied that 50 or 100 people who were supposed to get the funds have got it. The funds meant for a thousand villages have been released. But their job satisfaction peaks when they hear that their work has directly impacted someone’s life positively. When they see the tangible results of their efforts, their enthusiasm multiplies. They feel satisfied. Therefore, ‘Viksit Bharat Sankalp Yatra’ has had a positive impact on government officers. It has made them more enthusiastic about their work, especially when they witness the tangible benefits reaching the people. Officers now feel satisfied with their work, saying, “I made a good plan, I created a file, and the intended beneficiaries received the benefits.” When they find that the money has reached a poor widow under the Jeevan Jyoti scheme and it was a great help to her during her crisis, they realise that they have done a good job. When a government officer listens to such stories, he feels very satisfied.\n",
    "\n",
    "There are very few who understand the power and impact of the ‘Viksit Bharat Sankalp Yatra’. When I hear people connected to bureaucratic circles talking about it, expressing their satisfaction, it resonates with me. I’ve heard stories where someone suddenly received 2 lakh rupees after the death of her husband, and a sister mentioned how the arrival of gas in her home transformed her lives. The most significant aspect is when someone says that the line between rich and poor has vanished. While the slogan ‘Garibi Hatao’ (Remove Poverty) is one thing, but the real change happens when a person says, “As soon as the gas stove came to my house, the distinction between poverty and affluence disappeared.\n",
    "\"\"\""
   ]
  },
  {
   "cell_type": "code",
   "execution_count": 7,
   "metadata": {},
   "outputs": [
    {
     "name": "stderr",
     "output_type": "stream",
     "text": [
      "c:\\Users\\lenovo\\OneDrive\\Documents\\Langchain_Projects\\Text_summarization\\venv\\lib\\site-packages\\langchain_core\\_api\\deprecation.py:117: LangChainDeprecationWarning: The class `langchain_community.chat_models.openai.ChatOpenAI` was deprecated in langchain-community 0.0.10 and will be removed in 0.2.0. An updated version of the class exists in the langchain-openai package and should be used instead. To use it run `pip install -U langchain-openai` and import as `from langchain_openai import ChatOpenAI`.\n",
      "  warn_deprecated(\n"
     ]
    }
   ],
   "source": [
    "chat_message=[\n",
    "    SystemMessage(content=\"You are an expert assistant with expertize in summarizing speeches\"),\n",
    "    HumanMessage(content=f\"Please provide a short and concise summary of the following speech : \\n TEXT :{speech}\")\n",
    "]\n",
    "\n",
    "llm=ChatOpenAI(model_name='gpt-3.5-turbo')"
   ]
  },
  {
   "cell_type": "code",
   "execution_count": 10,
   "metadata": {},
   "outputs": [
    {
     "data": {
      "text/plain": [
       "866"
      ]
     },
     "execution_count": 10,
     "metadata": {},
     "output_type": "execute_result"
    }
   ],
   "source": [
    "llm.get_num_tokens(speech)"
   ]
  },
  {
   "cell_type": "code",
   "execution_count": 11,
   "metadata": {},
   "outputs": [
    {
     "name": "stderr",
     "output_type": "stream",
     "text": [
      "c:\\Users\\lenovo\\OneDrive\\Documents\\Langchain_Projects\\Text_summarization\\venv\\lib\\site-packages\\langchain_core\\_api\\deprecation.py:117: LangChainDeprecationWarning: The function `__call__` was deprecated in LangChain 0.1.7 and will be removed in 0.2.0. Use invoke instead.\n",
      "  warn_deprecated(\n"
     ]
    },
    {
     "name": "stdout",
     "output_type": "stream",
     "text": [
      "In this speech, the speaker discusses the importance of ensuring that government plans reach the intended beneficiaries without any difficulties. They mention their responsibility as a Member of Parliament to contribute to this goal. The speaker shares their experiences of encountering cases where individuals were left out of government benefits and their decision to tour the country to listen to people's experiences with government schemes. They emphasize the need to examine whether the intended work has been carried out and mention positive stories of individuals benefiting from government schemes. The speaker also highlights the positive impact the 'Viksit Bharat Sankalp Yatra' has had on government officers, increasing their enthusiasm and job satisfaction. They mention the power and impact of the journey and share stories of individuals experiencing positive changes in their lives due to government initiatives.\n"
     ]
    }
   ],
   "source": [
    "print(llm(chat_message).content)"
   ]
  },
  {
   "cell_type": "code",
   "execution_count": 12,
   "metadata": {},
   "outputs": [],
   "source": [
    "from langchain.chains import LLMChain\n",
    "from langchain import PromptTemplate"
   ]
  },
  {
   "cell_type": "code",
   "execution_count": 13,
   "metadata": {},
   "outputs": [],
   "source": [
    "generic_template='''\n",
    "Write a summary of following speech :\n",
    "speech : `{speech}`\n",
    "Translate the precise summary to {language}\n",
    "'''\n",
    "\n",
    "prompt=PromptTemplate(\n",
    "    input_variables=['speech','language'],\n",
    "    template=generic_template\n",
    ")"
   ]
  },
  {
   "cell_type": "code",
   "execution_count": 14,
   "metadata": {},
   "outputs": [],
   "source": [
    "complete_prompt=prompt.format(speech=speech,language='Hindi')"
   ]
  },
  {
   "cell_type": "code",
   "execution_count": 15,
   "metadata": {},
   "outputs": [
    {
     "data": {
      "text/plain": [
       "'\\nWrite a summary of following speech :\\nspeech : `\\nPeople across the country, involved in government, political, and social activities, are dedicating their time to make the ‘Viksit Bharat Sankalp Yatra’ (Developed India Resolution Journey) successful. Therefore, as a Member of Parliament, it was my responsibility to also contribute my time to this program. So, today, I have come here just as a Member of Parliament and your ‘sevak’, ready to participate in this program, much like you.\\n\\nIn our country, governments have come and gone, numerous schemes have been formulated, discussions have taken place, and big promises have been made. However, my experience and observations led me to believe that the most critical aspect that requires attention is ensuring that the government’s plans reach the intended beneficiaries without any hassles. If there is a ‘Pradhan Mantri Awas Yojana’ (Prime Minister’s housing scheme), then those who are living in jhuggis and slums should get their houses. And he should not need to make rounds of the government offices for this purpose. The government should reach him. Since you have assigned this responsibility to me, about four crore families have got their ‘pucca’ houses. However, I have encountered cases where someone is left out of the government benefits. Therefore, I have decided to tour the country again, to listen to people’s experiences with government schemes, to understand whether they received the intended benefits, and to ensure that the programs are reaching everyone as planned without paying any bribes. We will get the real picture if we visit them again. Therefore, this ‘Viksit Bharat Sankalp Yatra’ is, in a way, my own examination. I want to hear from you and the people across the country whether what I envisioned and the work I have been doing aligns with reality and whether it has reached those for whom it was meant.\\n\\nIt is crucial to check whether the work that was supposed to happen has indeed taken place. I recently met some individuals who utilized the Ayushman card to get treatment for serious illnesses. One person met with a severe accident, and after using the card, he could afford the necessary operation, and now he is recovering well. When I asked him, he said: “How could I afford this treatment? Now that there is the Ayushman card, I mustered courage and underwent an operation. Now I am perfectly fine.”  Such stories are blessings to me.\\n\\nThe bureaucrats, who prepare good schemes, expedite the paperwork and even allocate funds, also feel satisfied that 50 or 100 people who were supposed to get the funds have got it. The funds meant for a thousand villages have been released. But their job satisfaction peaks when they hear that their work has directly impacted someone’s life positively. When they see the tangible results of their efforts, their enthusiasm multiplies. They feel satisfied. Therefore, ‘Viksit Bharat Sankalp Yatra’ has had a positive impact on government officers. It has made them more enthusiastic about their work, especially when they witness the tangible benefits reaching the people. Officers now feel satisfied with their work, saying, “I made a good plan, I created a file, and the intended beneficiaries received the benefits.” When they find that the money has reached a poor widow under the Jeevan Jyoti scheme and it was a great help to her during her crisis, they realise that they have done a good job. When a government officer listens to such stories, he feels very satisfied.\\n\\nThere are very few who understand the power and impact of the ‘Viksit Bharat Sankalp Yatra’. When I hear people connected to bureaucratic circles talking about it, expressing their satisfaction, it resonates with me. I’ve heard stories where someone suddenly received 2 lakh rupees after the death of her husband, and a sister mentioned how the arrival of gas in her home transformed her lives. The most significant aspect is when someone says that the line between rich and poor has vanished. While the slogan ‘Garibi Hatao’ (Remove Poverty) is one thing, but the real change happens when a person says, “As soon as the gas stove came to my house, the distinction between poverty and affluence disappeared.\\n`\\nTranslate the precise summary to Hindi\\n'"
      ]
     },
     "execution_count": 15,
     "metadata": {},
     "output_type": "execute_result"
    }
   ],
   "source": [
    "complete_prompt"
   ]
  },
  {
   "cell_type": "code",
   "execution_count": 16,
   "metadata": {},
   "outputs": [
    {
     "data": {
      "text/plain": [
       "884"
      ]
     },
     "execution_count": 16,
     "metadata": {},
     "output_type": "execute_result"
    }
   ],
   "source": [
    "llm.get_num_tokens(complete_prompt)"
   ]
  },
  {
   "cell_type": "code",
   "execution_count": 17,
   "metadata": {},
   "outputs": [
    {
     "name": "stderr",
     "output_type": "stream",
     "text": [
      "c:\\Users\\lenovo\\OneDrive\\Documents\\Langchain_Projects\\Text_summarization\\venv\\lib\\site-packages\\langchain_core\\_api\\deprecation.py:117: LangChainDeprecationWarning: The function `run` was deprecated in LangChain 0.1.0 and will be removed in 0.2.0. Use invoke instead.\n",
      "  warn_deprecated(\n"
     ]
    }
   ],
   "source": [
    "llm_chain=LLMChain(llm=llm,prompt=prompt)\n",
    "summary=llm_chain.run({'speech':speech,'language':'hindi'})"
   ]
  },
  {
   "cell_type": "code",
   "execution_count": 19,
   "metadata": {},
   "outputs": [
    {
     "name": "stdout",
     "output_type": "stream",
     "text": [
      "संबंधित भाषण का संक्षेप :\n",
      "देश भर में सरकार, राजनीतिक और सामाजिक गतिविधियों में शामिल लोग, 'विकसित भारत संकल्प यात्रा' को सफल बनाने में अपना समय समर्पित कर रहे हैं। इसलिए, संसद के सदस्य के रूप में, मेरा यह कर्तव्य भी इस कार्यक्रम में अपना समय समर्पित करना था। इसलिए, आज मैं यहां सिर्फ संसद के सदस्य और आपका 'सेवक' के रूप में आया हूं, इस कार्यक्रम में आपके साथ भाग लेने के लिए तैयार हूं, जैसे कि आप।\n",
      "\n",
      "हमारे देश में, सरकारें आई हैं और गई हैं, अनेक योजनाएं तैयार की गईं हैं, चर्चाएं हुईं हैं और बड़े वादे किए गए हैं। हालांकि, मेरे अनुभव और अवलोकन से मेरा यह मानना है कि जो सबसे महत्वपूर्ण पहलू है, वह यह है कि सरकार की योजनाएं उनके इच्छित लाभार्थियों तक बिना किसी परेशानी के पहुंचें। यदि 'प्रधान मंत्री आवास योजना' है, तो वह जो झुग्गियों और बस्तियों में रह रहे हैं, उन्हें उनके घर मिलने चाहिए। और उसे इस मकसद के लिए सरकारी कार्यालयों के चक्कर काटने की आवश्यकता नहीं होनी चाहिए। सरकार को उसे पहुंचनी चाहिए। जबसे आपने मुझे इस ज़िम्मेदारी को सौंपा है, तबसे लगभग चार करोड़ परिवारों को उनके 'पुक्का' घर मिल चुके हैं। हालांकि, मैंने ऐसे मामलों का सामना किया है जहां किसी को सरकारी लाभों से वंचित छोड़ दिया गया है। इसलिए, मैंने फिर से देश की यात्रा करने का फैसला किया है, लोगों के अनुभवों को सुनने के लिए, समझने के लिए कि क्या उन्हें इच्छित लाभ मिला है, और सुनिश्चित करने के लिए कि कार्यक्रम सभी के पास यथायोग्य रूप से पहुंच रहा है और किसी भ्रष्टाचार के बिना। हम उन्हें फिर से मिलकर असली तस्वीर प्राप्त करेंगे। इसलिए, यह 'विकसित भारत संकल्प यात्रा' एक तरह से मेरा खुद का परीक्षण है। मैं चाहता हूं कि आपसे और देशभर के लोगों से जानूं कि क्या मैंने जो सोचा था और जो काम किया है, वह वास्तविकता के साथ मेल खाता है और क्या वह उन लोगों तक पहुंच गया है जिनके लिए यह मकसद था।\n",
      "\n",
      "यह महत्वपूर्ण है कि जो काम होना चाहिए वह वास्तव में हुआ है या नहीं, इसकी जांच की जाए। हाल ही में मैंने कुछ लोगों से मिले जिन्होंने गंभीर बीमारियों के इलाज के लिए आयुष्मान कार्ड का उपयोग किया। एक व्यक्ति का गंभीर दुर्घटना में हादसा हुआ, और कार्ड का उपयोग करने के बाद, उसे आवश्यक ऑपरेशन करने की सामर्थ्य मिली, और अब वह ठीक हो रहा है। जब मैंने उससे पूछा, तो उसने कहा: \"मैं इस उपचार के लिए कैसे सामर्थ्य रख सकता था? अब जब आयुष्मान कार्ड है, तो मैंने हिम्मत जुटाई और एक ऑपरेशन करवाया। अब मैं पूरी तरह से ठीक हूं। \" ऐसी कहानियाँ मेरे लिए आशीर्वाद हैं।\n",
      "\n",
      "जो अधिकारी अच्छी योजनाएं तैयार करते हैं, कागज़ात तेज़ करते हैं और धन का आवंटन भी करते हैं, वे भी संतुष्ट महसूस करते हैं कि 50 या 100 लोग, जिन्हें धन मिलना चाहिए था, उसे प्राप्त कर चुके हैं। हजारों गांवों के लिए निर्धारित धन जारी किया गया है। लेकिन उनकी काम के प्रति संतुष्टि जब उन्हें यह सुनने को मिलती है कि उनका काम किसी के जीवन पर सीधे असर डाल रहा है, तब उनकी उत्साहवर्धकता बढ़ती है। जब वे अपने प्रयासों के प्रत्यक्ष परिणामों को देखते हैं, तभी उनका उत्साह दुगुना होता है। वह संतुष्ट महसूस करते हैं। इसलिए, 'विकसित भारत संकल्प यात्रा' ने सरकारी अधिकारियों पर सकारात्मक प्रभाव डाला है। इसने उन्हें उनके काम के प्रति अधिक उत्साही बना दिया है, खासकर जब वे देखते हैं कि वास्तविक लाभ लोगों तक पहुंच रहा है। अधिकारी अब अपने काम से संतुष्ट होते हैं, कहते हैं, \"मैंने अच्छी योजना बनाई, मैंने एक फाइल बनाई, और इच्छित लाभार्थियों को लाभ मिला।\" जब उन्हें पता चलता है कि पुरानी जीवन ज्योति योजना के तहत एक गरीब विधवा को पैसे मिले हैं और यह उसकी संकट के दौरान उसकी बहुत मदद हुई थी, तब वे महसूस करते हैं कि उन्होंने अच्छा काम किया है। जब कोई सरकारी अधिकारी ऐसी कहानियों को सुनता है, तो उस\n"
     ]
    }
   ],
   "source": [
    "print(summary)"
   ]
  },
  {
   "cell_type": "code",
   "execution_count": null,
   "metadata": {},
   "outputs": [],
   "source": []
  }
 ],
 "metadata": {
  "kernelspec": {
   "display_name": "venv",
   "language": "python",
   "name": "python3"
  },
  "language_info": {
   "codemirror_mode": {
    "name": "ipython",
    "version": 3
   },
   "file_extension": ".py",
   "mimetype": "text/x-python",
   "name": "python",
   "nbconvert_exporter": "python",
   "pygments_lexer": "ipython3",
   "version": "3.9.11"
  }
 },
 "nbformat": 4,
 "nbformat_minor": 2
}
